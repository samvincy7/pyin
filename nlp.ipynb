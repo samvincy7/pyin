{
 "cells": [
  {
   "cell_type": "markdown",
   "id": "bac5d896-7cfa-4515-90eb-58befda2b01c",
   "metadata": {},
   "source": [
    "# Implementation of Resume Screening with Python"
   ]
  },
  {
   "cell_type": "code",
   "execution_count": 2,
   "id": "15133d94-c6b2-48e0-8040-fba6a6a67eb0",
   "metadata": {},
   "outputs": [],
   "source": [
    "import requests"
   ]
  },
  {
   "cell_type": "code",
   "execution_count": 4,
   "id": "8bc7a57f-8090-40e7-9fa2-be12dbbca28d",
   "metadata": {},
   "outputs": [
    {
     "name": "stdout",
     "output_type": "stream",
     "text": [
      "Notebook downloaded as pyin_downloaded.ipynb\n"
     ]
    }
   ],
   "source": [
    "import requests\n",
    "\n",
    "# Raw GitHub URL of your notebook\n",
    "url = \"https://raw.githubusercontent.com/samvincy7/pyin/main/AI_and_Automation_Lab.ipynb\"\n",
    "\n",
    "# Download and save the notebook file\n",
    "response = requests.get(url)\n",
    "with open(\"pyin_downloaded.ipynb\", \"wb\") as f:\n",
    "    f.write(response.content)\n",
    "\n",
    "print(\"Notebook downloaded as pyin_downloaded.ipynb\")\n"
   ]
  },
  {
   "cell_type": "code",
   "execution_count": 13,
   "id": "ea27d58c",
   "metadata": {},
   "outputs": [
    {
     "name": "stdout",
     "output_type": "stream",
     "text": [
      "     keywords  scores\n",
      "0      amazon       4\n",
      "1       cluny       0\n",
      "2  networking       0\n",
      "resume rejected\n"
     ]
    }
   ],
   "source": [
    "import PyPDF2\n",
    "import spacy \n",
    "import pandas as pd\n",
    "nlp = spacy.load(\"en_core_web_sm\")\n",
    "def extract_text(pdf_path):\n",
    "    text=' '\n",
    "    with open(pdf_path,'rb')as f:\n",
    "        reader =  PyPDF2.PdfReader(f)\n",
    "        for page in reader.pages:\n",
    "            text += page.extract_text()\n",
    "            return text.lower()\n",
    "def screen_resume(text,keywords):\n",
    "    doc = nlp(text)\n",
    "    return{kw:text.count(kw)for kw in keywords}\n",
    "def accept_resume(matches,threshold=1):\n",
    "    return all(count>=threshold for count in matches.values())\n",
    "keywords=[\"amazon\",\"cluny\",\"networking\"]\n",
    "pdf_path =r\"C:\\Users\\HP\\Downloads\\Stockholm-Resume-Template-Simple.pdf\"\n",
    "text = extract_text(pdf_path)\n",
    "matches = screen_resume(text,keywords)\n",
    "accepted = accept_resume(matches)\n",
    "df = pd.DataFrame(matches.items(),columns=[\"keywords\",\"scores\"])\n",
    "print(df)\n",
    "print(\"resume accepted\" if accepted else\"resume rejected\")"
   ]
  },
  {
   "cell_type": "code",
   "execution_count": 5,
   "id": "cae631e1-9967-44b3-8951-254fc4257f50",
   "metadata": {},
   "outputs": [
    {
     "name": "stdout",
     "output_type": "stream",
     "text": [
      "      Keyword  Score\n",
      "0      amazon      4\n",
      "1       cluny      0\n",
      "2  networking      0\n",
      "Resume Rejected\n"
     ]
    }
   ],
   "source": [
    "import PyPDF2\n",
    "import spacy\n",
    "import pandas as pd\n",
    "\n",
    "nlp = spacy.load(\"en_core_web_sm\")\n",
    "\n",
    "def extract_text(pdf_path):\n",
    "    text = ''\n",
    "    with open(pdf_path, 'rb') as f:\n",
    "        reader = PyPDF2.PdfReader(f)\n",
    "        for page in reader.pages:\n",
    "            text += page.extract_text()\n",
    "    return text.lower()  # <- moved outside loop\n",
    "\n",
    "def screen_resume(text, keywords):\n",
    "    return {kw: text.count(kw) for kw in keywords}\n",
    "\n",
    "def accept_resume(matches, threshold=1):\n",
    "    return all(count >= threshold for count in matches.values())\n",
    "\n",
    "# Define keywords and path\n",
    "keywords = [\"amazon\", \"cluny\", \"networking\"]\n",
    "pdf_path = r\"C:\\Users\\HP\\Downloads\\Stockholm-Resume-Template-Simple.pdf\"\n",
    "\n",
    "# Process resume\n",
    "text = extract_text(pdf_path)\n",
    "matches = screen_resume(text, keywords)\n",
    "accepted = accept_resume(matches)\n",
    "\n",
    "# Display results\n",
    "df = pd.DataFrame(matches.items(), columns=[\"Keyword\", \"Score\"])\n",
    "print(df)\n",
    "print(\"Resume Accepted\" if accepted else \"Resume Rejected\")\n"
   ]
  },
  {
   "cell_type": "markdown",
   "id": "d84a2049-7665-4234-b945-c224bebf468f",
   "metadata": {},
   "source": [
    "# NER"
   ]
  },
  {
   "cell_type": "code",
   "execution_count": 4,
   "id": "181f176c",
   "metadata": {},
   "outputs": [
    {
     "name": "stdout",
     "output_type": "stream",
     "text": [
      "Sam-->PERSON\n",
      "India-->GPE\n",
      "TN-->ORG\n"
     ]
    }
   ],
   "source": [
    "import spacy \n",
    "def perform_ner(text):\n",
    "    nlp = spacy.load(\"en_core_web_sm\")\n",
    "    doc = nlp(text)\n",
    "    return[(ent.text,ent.label_) for ent in doc.ents]\n",
    "text =\"Elon Musk is the CEO of Tesla.\"\n",
    "te=\"Sam is the president of India,TN\"\n",
    "for ent,label in perform_ner(te):\n",
    "    print(f\"{ent}-->{label}\")"
   ]
  },
  {
   "cell_type": "code",
   "execution_count": 6,
   "id": "784fd77b-96f6-408f-b3b9-a7a839caf867",
   "metadata": {},
   "outputs": [
    {
     "name": "stdout",
     "output_type": "stream",
     "text": [
      "Steve Jobs -> PERSON\n",
      "Apple -> ORG\n",
      "California -> GPE\n",
      "1976 -> DATE\n",
      "1,300 -> MONEY\n"
     ]
    }
   ],
   "source": [
    "import spacy\n",
    "\n",
    "nlp = spacy.load(\"en_core_web_sm\")\n",
    "text = \"Steve Jobs founded Apple in California in 1976 with $1,300.\"\n",
    "\n",
    "doc = nlp(text)\n",
    "for ent in doc.ents:\n",
    "    print(f\"{ent.text} -> {ent.label_}\")\n"
   ]
  },
  {
   "cell_type": "markdown",
   "id": "9dd979c9-b8f5-4baf-9379-e7b1458f1c66",
   "metadata": {},
   "source": [
    "# Sentiment Analysis"
   ]
  },
  {
   "cell_type": "code",
   "execution_count": 16,
   "id": "9a97fbe5",
   "metadata": {},
   "outputs": [
    {
     "name": "stdout",
     "output_type": "stream",
     "text": [
      "sentiment: positive\n"
     ]
    }
   ],
   "source": [
    "import nltk\n",
    "from nltk.sentiment import SentimentIntensityAnalyzer\n",
    "def sentiment_analyzer(text):\n",
    "    sia = SentimentIntensityAnalyzer()\n",
    "    score = sia.polarity_scores(text)['compound']\n",
    "    return \"positive\" if score >=0.5 else\"negative\"if score<=-0.5 else\"neutral\"\n",
    "text =\"i loved the movie.\"\n",
    "print(\"sentiment:\",sentiment_analyzer(text))"
   ]
  },
  {
   "cell_type": "markdown",
   "id": "56162ee9-c51c-4df6-a94a-aef22638c241",
   "metadata": {},
   "source": [
    "# Keyword Extraction"
   ]
  },
  {
   "cell_type": "code",
   "execution_count": 17,
   "id": "1a55baea",
   "metadata": {},
   "outputs": [
    {
     "name": "stdout",
     "output_type": "stream",
     "text": [
      "Python\n",
      "intellingence\n",
      "versatile\n",
      "language\n",
      "datascience\n"
     ]
    }
   ],
   "source": [
    "import nltk\n",
    "import yake\n",
    "text =\"Python is a versatile language used in datascience and artifial intellingence\"\n",
    "kw_extractor = yake.KeywordExtractor(lan=\"en\",n=1,top=5)\n",
    "keywords = kw_extractor.extract_keywords(text)\n",
    "for kw,score in keywords:\n",
    "    print(kw)"
   ]
  },
  {
   "cell_type": "markdown",
   "id": "9e76f0d2-a856-4d8c-b972-2871198e4c03",
   "metadata": {},
   "source": [
    "# Spelling Correction Model"
   ]
  },
  {
   "cell_type": "code",
   "execution_count": 19,
   "id": "4920a0d6",
   "metadata": {},
   "outputs": [
    {
     "name": "stdout",
     "output_type": "stream",
     "text": [
      "correct text: i like to play in park\n"
     ]
    }
   ],
   "source": [
    "from textblob import TextBlob \n",
    "def correct_spelling(text):\n",
    "    return TextBlob(text).correct()\n",
    "text =\"i lke to ployy in parrk\"\n",
    "print(\"correct text:\",correct_spelling(text))"
   ]
  },
  {
   "cell_type": "code",
   "execution_count": 21,
   "id": "dcdc72b6",
   "metadata": {},
   "outputs": [
    {
     "name": "stdout",
     "output_type": "stream",
     "text": [
      "original text: i lke to ployy in parrk\n",
      "corrected text: i like to ploy in park\n"
     ]
    }
   ],
   "source": [
    "from autocorrect import Speller\n",
    "def correct_spelling(text):\n",
    "        spell = Speller(lang=\"en\")\n",
    "        return spell(text)\n",
    "text = \"i lke to ployy in parrk\"\n",
    "print(\"original text:\",text)\n",
    "print(\"corrected text:\",correct_spelling(text))\n"
   ]
  },
  {
   "cell_type": "markdown",
   "id": "1ac52e07-ec46-4472-a953-d9f2e4c12c86",
   "metadata": {},
   "source": [
    "# Keyboard Autocorrection Model"
   ]
  },
  {
   "cell_type": "code",
   "execution_count": 26,
   "id": "f2ee972a",
   "metadata": {},
   "outputs": [
    {
     "name": "stdout",
     "output_type": "stream",
     "text": [
      "correct text: she  likes  apple  and  banana\n"
     ]
    }
   ],
   "source": [
    "from difflib import get_close_matches\n",
    "def get_matches(word,word_list):\n",
    "    matches = get_close_matches(word,word_list,n=1,cutoff=0.8)\n",
    "    return matches[0]if matches else word\n",
    "word_list=[\"apple\",\"banana\",\"elephant\"]\n",
    "input_text=\"she likes appless and bananana.\"\n",
    "corrected=\"  \".join([autocorrect(word,word_list)for word in input_text.split()])\n",
    "print(\"correct text:\",corrected)"
   ]
  },
  {
   "cell_type": "markdown",
   "id": "2777ecab-1895-4ea8-91fa-83c788a9bac0",
   "metadata": {},
   "source": [
    "# Implementation of Election Results prediction by analysing Tweets"
   ]
  },
  {
   "cell_type": "code",
   "execution_count": 28,
   "id": "ea6a1ab5",
   "metadata": {},
   "outputs": [
    {
     "name": "stdout",
     "output_type": "stream",
     "text": [
      "0.35000000000000003\n",
      "0.0\n",
      "candidate A win\n"
     ]
    }
   ],
   "source": [
    "from textblob import TextBlob \n",
    "\n",
    "tweets_candidate1 = [\n",
    "    \"I really like Candidate A, they are honest and capable!\",\n",
    "    \"Candidate A is doing great work.\",\n",
    "    \"I'm voting for Candidate A!\"\n",
    "]\n",
    "\n",
    "tweets_candidate2 = [\n",
    "    \"Candidate B is not trustworthy.\",\n",
    "    \"I don't like Candidate B's ideas.\",\n",
    "    \"Candidate B is a bad choice.\"\n",
    "]\n",
    "def analyse_sentiment(tweets):\n",
    "    score=0\n",
    "    for tweet in tweets:\n",
    "        analysis = TextBlob(tweet)\n",
    "        score += analysis.sentiment.polarity\n",
    "        return score\n",
    "score_a=analyse_sentiment(tweets_candidate1)\n",
    "score_b=analyse_sentiment(tweets_candidate2)\n",
    "print(score_a)\n",
    "print(score_b)\n",
    "if score_a>score_b:\n",
    "    print(\"candidate A win\")\n",
    "elif score_a<score_b:\n",
    "     print(\"candidate A win\")\n",
    "else:\n",
    "    print(\"it's a tie\")\n",
    "    "
   ]
  },
  {
   "cell_type": "markdown",
   "id": "cb3914c4-0ff3-492c-8c2a-c0dca2994299",
   "metadata": {},
   "source": [
    "# Development of NLP for other Language"
   ]
  },
  {
   "cell_type": "code",
   "execution_count": 35,
   "id": "0415011c",
   "metadata": {},
   "outputs": [
    {
     "name": "stdout",
     "output_type": "stream",
     "text": [
      "token and pos\n",
      "hola VERB\n",
      "como SCONJ\n",
      "estas DET\n",
      "Named entity\n",
      "hola ORG\n",
      "sentiment : 0.0\n"
     ]
    }
   ],
   "source": [
    "import spacy\n",
    "from textblob import TextBlob\n",
    "\n",
    "nlp = spacy.load(\"es_core_news_sm\")\n",
    "text=\"hola como estas\"\n",
    "doc = nlp(text)\n",
    "\n",
    "print(\"token and pos\")\n",
    "for token in doc:\n",
    "    print(token.text,token.pos_)\n",
    "print(\"Named entity\")\n",
    "for ent in doc.ents:\n",
    "    print(ent.text,ent.label_)\n",
    "sentiment = sum(TextBlob(sent.text).sentiment.polarity for sent in doc.sents)\n",
    "print(\"sentiment :\",sentiment)"
   ]
  },
  {
   "cell_type": "code",
   "execution_count": 34,
   "id": "42d52c37",
   "metadata": {},
   "outputs": [
    {
     "name": "stdout",
     "output_type": "stream",
     "text": [
      "Tokens and POS:\n",
      "Me PRON\n",
      "encanta VERB\n",
      "la DET\n",
      "comida NOUN\n",
      "mexicana ADJ\n",
      "y CCONJ\n",
      "el DET\n",
      "tequila PROPN\n",
      ". PUNCT\n",
      "\n",
      "Named Entities:\n",
      "\n",
      "Sentiment Score: 0.0\n"
     ]
    }
   ],
   "source": [
    "import spacy\n",
    "from textblob import TextBlob\n",
    "nlp = spacy.load(\"es_core_news_sm\")\n",
    "text = \"Me encanta la comida mexicana y el tequila.\"\n",
    "doc = nlp(text)\n",
    "print(\"Tokens and POS:\")\n",
    "for token in doc:\n",
    "    print(token.text, token.pos_)\n",
    "print(\"\\nNamed Entities:\")\n",
    "for ent in doc.ents:\n",
    "    print(ent.text, ent.label_)\n",
    "sentiment = sum(TextBlob(sent.text).sentiment.polarity for sent in doc.sents)\n",
    "print(\"\\nSentiment Score:\", sentiment)\n"
   ]
  },
  {
   "cell_type": "markdown",
   "id": "f408cddc-4393-4ebe-96e7-bc2f934197eb",
   "metadata": {},
   "source": [
    "# Creation of Text Classification using Deep Learning"
   ]
  },
  {
   "cell_type": "code",
   "execution_count": 37,
   "id": "943e72da",
   "metadata": {},
   "outputs": [
    {
     "name": "stdout",
     "output_type": "stream",
     "text": [
      "Epoch 1/10\n",
      "\u001b[1m2/2\u001b[0m \u001b[32m━━━━━━━━━━━━━━━━━━━━\u001b[0m\u001b[37m\u001b[0m \u001b[1m2s\u001b[0m 16ms/step - accuracy: 0.5000 - loss: 1.0939\n",
      "Epoch 2/10\n",
      "\u001b[1m2/2\u001b[0m \u001b[32m━━━━━━━━━━━━━━━━━━━━\u001b[0m\u001b[37m\u001b[0m \u001b[1m0s\u001b[0m 8ms/step - accuracy: 0.3333 - loss: 1.0917.10\n",
      "Epoch 3/10\n",
      "\u001b[1m2/2\u001b[0m \u001b[32m━━━━━━━━━━━━━━━━━━━━\u001b[0m\u001b[37m\u001b[0m \u001b[1m0s\u001b[0m 9ms/step - accuracy: 0.6667 - loss: 1.0817\n",
      "Epoch 4/10\n",
      "\u001b[1m2/2\u001b[0m \u001b[32m━━━━━━━━━━━━━━━━━━━━\u001b[0m\u001b[37m\u001b[0m \u001b[1m0s\u001b[0m 11ms/step - accuracy: 0.6667 - loss: 1.0813\n",
      "Epoch 5/10\n",
      "\u001b[1m2/2\u001b[0m \u001b[32m━━━━━━━━━━━━━━━━━━━━\u001b[0m\u001b[37m\u001b[0m \u001b[1m0s\u001b[0m 7ms/step - accuracy: 0.8333 - loss: 1.0788  \n",
      "Epoch 6/10\n",
      "\u001b[1m2/2\u001b[0m \u001b[32m━━━━━━━━━━━━━━━━━━━━\u001b[0m\u001b[37m\u001b[0m \u001b[1m0s\u001b[0m 8ms/step - accuracy: 0.6667 - loss: 1.0689\n",
      "Epoch 7/10\n",
      "\u001b[1m2/2\u001b[0m \u001b[32m━━━━━━━━━━━━━━━━━━━━\u001b[0m\u001b[37m\u001b[0m \u001b[1m0s\u001b[0m 8ms/step - accuracy: 0.6667 - loss: 1.0714\n",
      "Epoch 8/10\n",
      "\u001b[1m2/2\u001b[0m \u001b[32m━━━━━━━━━━━━━━━━━━━━\u001b[0m\u001b[37m\u001b[0m \u001b[1m0s\u001b[0m 8ms/step - accuracy: 1.0000 - loss: 1.0701\n",
      "Epoch 9/10\n",
      "\u001b[1m2/2\u001b[0m \u001b[32m━━━━━━━━━━━━━━━━━━━━\u001b[0m\u001b[37m\u001b[0m \u001b[1m0s\u001b[0m 8ms/step - accuracy: 1.0000 - loss: 1.0677\n",
      "Epoch 10/10\n",
      "\u001b[1m2/2\u001b[0m \u001b[32m━━━━━━━━━━━━━━━━━━━━\u001b[0m\u001b[37m\u001b[0m \u001b[1m0s\u001b[0m 8ms/step - accuracy: 1.0000 - loss: 1.0519\n",
      "\u001b[1m1/1\u001b[0m \u001b[32m━━━━━━━━━━━━━━━━━━━━\u001b[0m\u001b[37m\u001b[0m \u001b[1m0s\u001b[0m 228ms/step - accuracy: 0.5000 - loss: 1.0885\n",
      "\n",
      "Test loss: 1.0884790420532227\n",
      "Test accuracy: 0.5\n",
      "\n",
      "\u001b[1m1/1\u001b[0m \u001b[32m━━━━━━━━━━━━━━━━━━━━\u001b[0m\u001b[37m\u001b[0m \u001b[1m0s\u001b[0m 107ms/step\n",
      "Text: This movie was amazing!\n",
      "Predicted label: Positive\n",
      "\n",
      "\u001b[1m1/1\u001b[0m \u001b[32m━━━━━━━━━━━━━━━━━━━━\u001b[0m\u001b[37m\u001b[0m \u001b[1m0s\u001b[0m 40ms/step\n",
      "Text: The food was terrible at this restaurant.\n",
      "Predicted label: Positive\n",
      "\n"
     ]
    }
   ],
   "source": [
    "import tensorflow as tf\n",
    "from tensorflow.keras.preprocessing.text import Tokenizer\n",
    "from tensorflow.keras.preprocessing.sequence import pad_sequences\n",
    "import numpy as np\n",
    "from sklearn.model_selection import train_test_split\n",
    "\n",
    "# Data\n",
    "texts = [\n",
    "    'I love programming',\n",
    "    'Python is great',\n",
    "    'I hate bugs',\n",
    "    'Coding is fun',\n",
    "    'Debugging is hard',\n",
    "    'I feel okay today'\n",
    "]\n",
    "labels = ['positive', 'positive', 'negative', 'positive', 'negative', 'neutral']\n",
    "\n",
    "# Label encoding\n",
    "label_map = {'positive': 0, 'negative': 1, 'neutral': 2}\n",
    "reverse_label_map = {v: k for k, v in label_map.items()}\n",
    "labels_encoded = [label_map[label] for label in labels]\n",
    "\n",
    "# Tokenization and padding\n",
    "tokenizer = Tokenizer(num_words=100)\n",
    "tokenizer.fit_on_texts(texts)\n",
    "sequences = tokenizer.texts_to_sequences(texts)\n",
    "X = pad_sequences(sequences, padding='post')\n",
    "y = np.array(labels_encoded)\n",
    "\n",
    "# Train-test split\n",
    "X_train, X_test, y_train, y_test = train_test_split(X, y, test_size=0.2, random_state=42)\n",
    "\n",
    "# Model\n",
    "model = tf.keras.Sequential([\n",
    "    tf.keras.layers.Embedding(input_dim=100, output_dim=16, input_length=X.shape[1]),\n",
    "    tf.keras.layers.GlobalAveragePooling1D(),\n",
    "    tf.keras.layers.Dense(16, activation='relu'),\n",
    "    tf.keras.layers.Dense(3, activation='softmax')\n",
    "])\n",
    "\n",
    "model.compile(optimizer='adam', loss='sparse_categorical_crossentropy', metrics=['accuracy'])\n",
    "\n",
    "# Train\n",
    "model.fit(X_train, y_train, epochs=10, batch_size=2)\n",
    "\n",
    "# Evaluate\n",
    "loss, accuracy = model.evaluate(X_test, y_test)\n",
    "print(f\"\\nTest loss: {loss}\")\n",
    "print(f\"Test accuracy: {accuracy}\")\n",
    "\n",
    "# Prediction examples\n",
    "test_texts = [\n",
    "    \"This movie was amazing!\",\n",
    "    \"The food was terrible at this restaurant.\"\n",
    "]\n",
    "\n",
    "print()\n",
    "for text in test_texts:\n",
    "    seq = tokenizer.texts_to_sequences([text])\n",
    "    pad = pad_sequences(seq, maxlen=X.shape[1], padding='post')\n",
    "    pred = model.predict(pad)\n",
    "    pred_label = reverse_label_map[np.argmax(pred)]\n",
    "    print(f\"Text: {text}\")\n",
    "    print(f\"Predicted label: {pred_label.capitalize()}\\n\")\n"
   ]
  },
  {
   "cell_type": "code",
   "execution_count": 17,
   "id": "6bcac248",
   "metadata": {},
   "outputs": [
    {
     "name": "stdout",
     "output_type": "stream",
     "text": [
      "Hi! I'm a simple chatbot. Ask me anything (type 'exit' to quit).\n"
     ]
    },
    {
     "name": "stdin",
     "output_type": "stream",
     "text": [
      "You:  hi\n"
     ]
    },
    {
     "name": "stdout",
     "output_type": "stream",
     "text": [
      "Chatbot: Sorry, I don't understand that. Can you rephrase or ask something else?\n"
     ]
    },
    {
     "name": "stdin",
     "output_type": "stream",
     "text": [
      "You:  fever\n"
     ]
    },
    {
     "name": "stdout",
     "output_type": "stream",
     "text": [
      "Chatbot: I'm sorry to hear that. You should rest and maybe see a doctor.\n"
     ]
    },
    {
     "name": "stdin",
     "output_type": "stream",
     "text": [
      "You:  sick\n"
     ]
    },
    {
     "name": "stdout",
     "output_type": "stream",
     "text": [
      "Chatbot: I'm sorry to hear that. You should rest and maybe see a doctor.\n"
     ]
    },
    {
     "name": "stdin",
     "output_type": "stream",
     "text": [
      "You:  hi\n"
     ]
    },
    {
     "name": "stdout",
     "output_type": "stream",
     "text": [
      "Chatbot: Sorry, I don't understand that. Can you rephrase or ask something else?\n"
     ]
    },
    {
     "name": "stdin",
     "output_type": "stream",
     "text": [
      "You:  math\n"
     ]
    },
    {
     "name": "stdout",
     "output_type": "stream",
     "text": [
      "Chatbot: Practice regularly and try solving sample problems.\n"
     ]
    },
    {
     "name": "stdin",
     "output_type": "stream",
     "text": [
      "You:  q\n"
     ]
    },
    {
     "name": "stdout",
     "output_type": "stream",
     "text": [
      "Chatbot: Sorry, I don't understand that. Can you rephrase or ask something else?\n"
     ]
    },
    {
     "name": "stdin",
     "output_type": "stream",
     "text": [
      "You:  exit\n"
     ]
    },
    {
     "name": "stdout",
     "output_type": "stream",
     "text": [
      "Chatbot: Goodbye!\n"
     ]
    }
   ],
   "source": [
    "def chatbot():\n",
    "    print(\"Hi! I'm a simple chatbot. Ask me anything (type 'exit' to quit).\")\n",
    "\n",
    "    while True:\n",
    "        user_input = input(\"You: \").lower()\n",
    "\n",
    "        if user_input == \"exit\":\n",
    "            print(\"Chatbot: Goodbye!\")\n",
    "            break\n",
    "\n",
    "        # Health domain\n",
    "        elif \"fever\" in user_input or \"sick\" in user_input:\n",
    "            print(\"Chatbot: I'm sorry to hear that. You should rest and maybe see a doctor.\")\n",
    "\n",
    "        elif \"headache\" in user_input:\n",
    "            print(\"Chatbot: Try drinking water or taking a short break. If it continues, see a doctor.\")\n",
    "\n",
    "        # Education domain\n",
    "        elif \"study tips\" in user_input:\n",
    "            print(\"Chatbot: Study in short sessions, take breaks, and test yourself often.\")\n",
    "\n",
    "        elif \"math\" in user_input:\n",
    "            print(\"Chatbot: Practice regularly and try solving sample problems.\")\n",
    "\n",
    "        # Travel ma\n",
    "        elif \"book ticket\" in user_input or \"flight\" in user_input:\n",
    "            print(\"Chatbot: You can book tickets online using travel sites like MakeMyTrip or IRCTC.\")\n",
    "\n",
    "        elif \"places to visit\" in user_input:\n",
    "            print(\"Chatbot: You should try visiting historical places, beaches, or mountains depending on your interest!\")\n",
    "\n",
    "        # Tech support domain\n",
    "        elif \"internet not working\" in user_input:\n",
    "            print(\"Chatbot: Try restarting your router. If it still doesn't work, call your internet provider.\")\n",
    "\n",
    "        elif \"password reset\" in user_input:\n",
    "            print(\"Chatbot: You can reset your password using the 'Forgot Password' link on the login page.\")\n",
    "\n",
    "        # Fallback response\n",
    "        else:\n",
    "            print(\"Chatbot: Sorry, I don't understand that. Can you rephrase or ask something else?\")\n",
    "\n",
    "# Run the chatbot\n",
    "chatbot()"
   ]
  },
  {
   "cell_type": "code",
   "execution_count": 18,
   "id": "2fa1ed38-03c9-4d20-9551-148bd56f3e26",
   "metadata": {},
   "outputs": [
    {
     "name": "stdout",
     "output_type": "stream",
     "text": [
      "Requirement already satisfied: scikit-learn in c:\\users\\hp\\anaconda3\\lib\\site-packages (1.6.1)\n",
      "Requirement already satisfied: nltk in c:\\users\\hp\\anaconda3\\lib\\site-packages (3.9.1)\n",
      "Requirement already satisfied: numpy>=1.19.5 in c:\\users\\hp\\anaconda3\\lib\\site-packages (from scikit-learn) (2.2.5)\n",
      "Requirement already satisfied: scipy>=1.6.0 in c:\\users\\hp\\anaconda3\\lib\\site-packages (from scikit-learn) (1.15.2)\n",
      "Requirement already satisfied: joblib>=1.2.0 in c:\\users\\hp\\anaconda3\\lib\\site-packages (from scikit-learn) (1.4.2)\n",
      "Requirement already satisfied: threadpoolctl>=3.1.0 in c:\\users\\hp\\anaconda3\\lib\\site-packages (from scikit-learn) (3.6.0)\n",
      "Requirement already satisfied: click in c:\\users\\hp\\anaconda3\\lib\\site-packages (from nltk) (8.1.7)\n",
      "Requirement already satisfied: regex>=2021.8.3 in c:\\users\\hp\\anaconda3\\lib\\site-packages (from nltk) (2024.11.6)\n",
      "Requirement already satisfied: tqdm in c:\\users\\hp\\anaconda3\\lib\\site-packages (from nltk) (4.66.5)\n",
      "Requirement already satisfied: colorama in c:\\users\\hp\\anaconda3\\lib\\site-packages (from click->nltk) (0.4.6)\n",
      "Note: you may need to restart the kernel to use updated packages.\n"
     ]
    }
   ],
   "source": [
    "pip install scikit-learn nltk\n"
   ]
  },
  {
   "cell_type": "code",
   "execution_count": 24,
   "id": "3bc95afc-eb5d-4e58-a71b-da895f6df68d",
   "metadata": {},
   "outputs": [
    {
     "name": "stdout",
     "output_type": "stream",
     "text": [
      "Summary: Natural Language Processing (NLP) is a field of AI.  NLP is used in chatbots, speech recognition, and more\n"
     ]
    }
   ],
   "source": [
    "from collections import Counter\n",
    "\n",
    "def summarize_text(text, num_sentences=2):\n",
    "    sentences = text.split('.')\n",
    "    words = text.lower().split()\n",
    "    word_freq = Counter(words)\n",
    "    \n",
    "    sentence_scores = []\n",
    "    for sentence in sentences:\n",
    "        score = sum(word_freq[word] for word in sentence.lower().split())\n",
    "        sentence_scores.append((sentence, score))\n",
    "    \n",
    "    return '. '.join([sentence for sentence, _ in sorted(sentence_scores, key=lambda x: x[1], reverse=True)[:num_sentences]])\n",
    "\n",
    "# Input text\n",
    "text = \"Natural Language Processing (NLP) is a field of AI. It allows machines to understand human language. NLP is used in chatbots, speech recognition, and more.\"\n",
    "\n",
    "# Summarize\n",
    "summary = summarize_text(text, 2)\n",
    "print(\"Summary:\", summary)\n"
   ]
  },
  {
   "cell_type": "code",
   "execution_count": null,
   "id": "f6cc5af7-76ca-4a72-8649-5fb7fd943c53",
   "metadata": {},
   "outputs": [],
   "source": []
  }
 ],
 "metadata": {
  "kernelspec": {
   "display_name": "Python 3 (ipykernel)",
   "language": "python",
   "name": "python3"
  },
  "language_info": {
   "codemirror_mode": {
    "name": "ipython",
    "version": 3
   },
   "file_extension": ".py",
   "mimetype": "text/x-python",
   "name": "python",
   "nbconvert_exporter": "python",
   "pygments_lexer": "ipython3",
   "version": "3.12.7"
  }
 },
 "nbformat": 4,
 "nbformat_minor": 5
}
