{
  "cells": [
    {
      "cell_type": "code",
      "execution_count": null,
      "id": "b165da5c-98d1-458a-953e-9a5973d31945",
      "metadata": {
        "id": "b165da5c-98d1-458a-953e-9a5973d31945",
        "outputId": "0f82723e-4d3e-4da7-ef58-24c50d61a45f"
      },
      "outputs": [
        {
          "name": "stdout",
          "output_type": "stream",
          "text": [
            "Q1: Similarity Score = 1.00\n",
            "Q2: Similarity Score = 0.00\n",
            "Q3: Similarity Score = 0.00\n",
            "Q4: Similarity Score = 0.33\n",
            "Q5: Similarity Score = 1.00\n",
            "\n",
            "Your Total Score is: 2.33 out of 5\n"
          ]
        }
      ],
      "source": [
        "# Exp No: 1 AUTOMATIC ANSWER CHECKER\n",
        "# Date:\n",
        "# AIM: To assess the similarity between user-provided answers and correct answers using Jaccard similarity.\n",
        "\n",
        "# Step 1: Import necessary library\n",
        "import nltk\n",
        "\n",
        "# Step 2: Tokenize text and convert to lowercase\n",
        "def get_tokens(text):\n",
        "    return text.lower().split()\n",
        "\n",
        "# Step 3: Calculate Jaccard similarity between two answers\n",
        "def calculate_similarity(answer, correct_answer):\n",
        "    set1 = set(get_tokens(answer))\n",
        "    set2 = set(get_tokens(correct_answer))\n",
        "    return 1 - nltk.jaccard_distance(set1, set2)\n",
        "\n",
        "# Step 4: Questions, Correct Answers, and User Answers\n",
        "questions = {\n",
        "    \"1\": \"What is part of a database that holds only one type of information?\",\n",
        "    \"2\": \"'OS' computer abbreviation usually means?\",\n",
        "    \"3\": \"What was the active medium used in the first working laser ever constructed?\",\n",
        "    \"4\": \"'.MOV' extension refers usually to what kind of file?\",\n",
        "    \"5\": \"What does EPROM stand for?\"\n",
        "}\n",
        "\n",
        "correct_answers = {\n",
        "    \"1\": \"Field\",\n",
        "    \"2\": \"Operating System\",\n",
        "    \"3\": \"A ruby rod\",\n",
        "    \"4\": \"Animation movie file\",\n",
        "    \"5\": \"Erasable Programmable Read Only Memory\"\n",
        "}\n",
        "\n",
        "user_answers = {\n",
        "    \"1\": \"Field\",\n",
        "    \"2\": \"Operation Subset\",\n",
        "    \"3\": \"Titanium\",\n",
        "    \"4\": \"Animation\",\n",
        "    \"5\": \"Erasable Programmable Read Only Memory\"\n",
        "}\n",
        "\n",
        "# Step 5: Evaluate all answers and calculate total similarity score\n",
        "total_score = 0\n",
        "for i in range(1, 6):\n",
        "    similarity = calculate_similarity(user_answers[str(i)], correct_answers[str(i)])\n",
        "    print(f\"Q{i}: Similarity Score = {similarity:.2f}\")\n",
        "    total_score += similarity\n",
        "\n",
        "# Step 6: Display final result\n",
        "print(f\"\\nYour Total Score is: {total_score:.2f} out of 5\")\n"
      ]
    },
    {
      "cell_type": "code",
      "execution_count": null,
      "id": "6eeba590-e3a6-4734-a8be-5702d40a070e",
      "metadata": {
        "id": "6eeba590-e3a6-4734-a8be-5702d40a070e"
      },
      "outputs": [],
      "source": [
        "## Based on user input"
      ]
    },
    {
      "cell_type": "code",
      "execution_count": null,
      "id": "a9248f34-25da-49ed-877b-baed2945b2bc",
      "metadata": {
        "id": "a9248f34-25da-49ed-877b-baed2945b2bc",
        "outputId": "a7aa2057-aac7-497d-a8ad-e0d05561ed68"
      },
      "outputs": [
        {
          "name": "stdout",
          "output_type": "stream",
          "text": [
            "----- QUIZ -----\n",
            "\n",
            "Q1: What is part of a database that holds only one type of information?\n"
          ]
        },
        {
          "name": "stdin",
          "output_type": "stream",
          "text": [
            "Your Answer:  data\n"
          ]
        },
        {
          "name": "stdout",
          "output_type": "stream",
          "text": [
            "Similarity Score: 0.00\n",
            "\n",
            "Q2: 'OS' computer abbreviation usually means?\n"
          ]
        },
        {
          "name": "stdin",
          "output_type": "stream",
          "text": [
            "Your Answer:  Operating System\n"
          ]
        },
        {
          "name": "stdout",
          "output_type": "stream",
          "text": [
            "Similarity Score: 1.00\n",
            "\n",
            "Q3: What was the active medium used in the first working laser ever constructed?\n"
          ]
        },
        {
          "name": "stdin",
          "output_type": "stream",
          "text": [
            "Your Answer:  dk\n"
          ]
        },
        {
          "name": "stdout",
          "output_type": "stream",
          "text": [
            "Similarity Score: 0.00\n",
            "\n",
            "Q4: '.MOV' extension refers usually to what kind of file?\n"
          ]
        },
        {
          "name": "stdin",
          "output_type": "stream",
          "text": [
            "Your Answer:  move\n"
          ]
        },
        {
          "name": "stdout",
          "output_type": "stream",
          "text": [
            "Similarity Score: 0.00\n",
            "\n",
            "Q5: What does EPROM stand for?\n"
          ]
        },
        {
          "name": "stdin",
          "output_type": "stream",
          "text": [
            "Your Answer:  idk\n"
          ]
        },
        {
          "name": "stdout",
          "output_type": "stream",
          "text": [
            "Similarity Score: 0.00\n",
            "\n",
            "Your Total Score: 1.00 out of 5\n"
          ]
        }
      ],
      "source": [
        "# Exp No: 1 AUTOMATIC ANSWER CHECKER\n",
        "# AIM: Assess user answers by comparing them with correct answers using Jaccard similarity.\n",
        "\n",
        "import nltk\n",
        "\n",
        "# Tokenize and convert text to lowercase\n",
        "def get_tokens(text):\n",
        "    return text.lower().split()\n",
        "\n",
        "# Calculate Jaccard similarity\n",
        "def calculate_similarity(answer, correct_answer):\n",
        "    set1 = set(get_tokens(answer))\n",
        "    set2 = set(get_tokens(correct_answer))\n",
        "    return 1 - nltk.jaccard_distance(set1, set2)\n",
        "\n",
        "# Questions and correct answers\n",
        "questions = {\n",
        "    \"1\": \"What is part of a database that holds only one type of information?\",\n",
        "    \"2\": \"'OS' computer abbreviation usually means?\",\n",
        "    \"3\": \"What was the active medium used in the first working laser ever constructed?\",\n",
        "    \"4\": \"'.MOV' extension refers usually to what kind of file?\",\n",
        "    \"5\": \"What does EPROM stand for?\"\n",
        "}\n",
        "\n",
        "correct_answers = {\n",
        "    \"1\": \"Field\",\n",
        "    \"2\": \"Operating System\",\n",
        "    \"3\": \"A ruby rod\",\n",
        "    \"4\": \"Animation movie file\",\n",
        "    \"5\": \"Erasable Programmable Read Only Memory\"\n",
        "}\n",
        "\n",
        "total_score = 0\n",
        "\n",
        "print(\"----- QUIZ -----\\n\")\n",
        "\n",
        "# Loop through questions, get user input and calculate similarity\n",
        "for i in range(1, 6):\n",
        "    q_no = str(i)\n",
        "    print(f\"Q{i}: {questions[q_no]}\")\n",
        "    user_input = input(\"Your Answer: \")\n",
        "    similarity = calculate_similarity(user_input, correct_answers[q_no])\n",
        "    print(f\"Similarity Score: {similarity:.2f}\\n\")\n",
        "    total_score += similarity\n",
        "\n",
        "# Final Score\n",
        "print(f\"Your Total Score: {total_score:.2f} out of 5\")\n"
      ]
    },
    {
      "cell_type": "code",
      "execution_count": 1,
      "id": "814f14ab-2f74-48ef-9443-319217f9cbe2",
      "metadata": {
        "colab": {
          "base_uri": "https://localhost:8080/"
        },
        "id": "814f14ab-2f74-48ef-9443-319217f9cbe2",
        "outputId": "062c4014-68ed-4773-f26c-596dba3fce3c"
      },
      "outputs": [
        {
          "output_type": "stream",
          "name": "stdout",
          "text": [
            "Welcome to the Online AI Shopping System!\n",
            "Available Products:\n",
            "- Smartphone: 500 credits\n",
            "- Headphones: 100 credits\n",
            "- Laptop: 800 credits\n",
            "- Camera: 300 credits\n",
            "\n",
            "Enter product to add to cart (or 'q' to checkout): Camera\n",
            "✅ Camera added to cart.\n",
            "\n",
            "Enter product to add to cart (or 'q' to checkout): q\n",
            "\n",
            "🛒 Cart Total: 300 credits\n",
            "✅ Payment successful. Order placed!\n",
            "💰 Wallet Balance: 700 credits\n"
          ]
        }
      ],
      "source": [
        "# Exp No: 4 ONLINE AI SHOPPING SYSTEM\n",
        "# Date:\n",
        "# AIM: To create an online shopping system with virtual wallet payment\n",
        "\n",
        "# Define products and wallet\n",
        "available_products = {\n",
        "    \"Smartphone\": 500,\n",
        "    \"Headphones\": 100,\n",
        "    \"Laptop\": 800,\n",
        "    \"Camera\": 300\n",
        "}\n",
        "wallet = 1000\n",
        "cart = []\n",
        "\n",
        "# Display welcome message and products\n",
        "print(\"Welcome to the Online AI Shopping System!\")\n",
        "print(\"Available Products:\")\n",
        "for item, price in available_products.items():\n",
        "    print(f\"- {item}: {price} credits\")\n",
        "\n",
        "# Shopping loop\n",
        "while True:\n",
        "    product = input(\"\\nEnter product to add to cart (or 'q' to checkout): \").title()\n",
        "    if product == 'Q':\n",
        "        break\n",
        "    elif product in available_products:\n",
        "        cart.append(product)\n",
        "        print(f\"✅ {product} added to cart.\")\n",
        "    else:\n",
        "        print(\"❌ Invalid product. Please try again.\")\n",
        "\n",
        "# Checkout\n",
        "total = sum(available_products[item] for item in cart)\n",
        "print(f\"\\n🛒 Cart Total: {total} credits\")\n",
        "\n",
        "if total <= wallet:\n",
        "    wallet -= total\n",
        "    print(\"✅ Payment successful. Order placed!\")\n",
        "else:\n",
        "    print(\"❌ Insufficient balance. Payment failed.\")\n",
        "\n",
        "print(f\"💰 Wallet Balance: {wallet} credits\")"
      ]
    },
    {
      "cell_type": "code",
      "execution_count": null,
      "id": "7f9ddd5e-4709-4b09-9aab-fa1a66f0d977",
      "metadata": {
        "id": "7f9ddd5e-4709-4b09-9aab-fa1a66f0d977",
        "outputId": "dc3e253d-34d9-464d-cbfc-7db41cad1b37"
      },
      "outputs": [
        {
          "name": "stdin",
          "output_type": "stream",
          "text": [
            "Enter the desired location (or 'q' to quit):  London\n"
          ]
        },
        {
          "name": "stdout",
          "output_type": "stream",
          "text": [
            "Latitude: 51.5074\n",
            "Longitude: -0.1278\n",
            "Nearby attractions: Big Ben, Tower of London, British Museum\n",
            "Nearby restaurants: Dishoom, Sketch, The Wolseley\n",
            "Weather Information:\n",
            "Temperature: 20°C\n",
            "Description: Partly Cloudy\n"
          ]
        },
        {
          "name": "stdin",
          "output_type": "stream",
          "text": [
            "Enter the desired location (or 'q' to quit):  q\n"
          ]
        },
        {
          "name": "stdout",
          "output_type": "stream",
          "text": [
            "Exiting the program.\n"
          ]
        }
      ],
      "source": [
        "def get_location_info(location):\n",
        "    locations = {\n",
        "        \"New York\": (40.7128, -74.0060),\n",
        "        \"London\": (51.5074, -0.1278),\n",
        "        \"Paris\": (48.8566, 2.3522),\n",
        "        \"Tokyo\": (35.6895, 139.6917),\n",
        "    }\n",
        "    return locations.get(location)\n",
        "\n",
        "def find_nearby_attractions(location):\n",
        "    attractions = {\n",
        "        \"New York\": [\"Statue of Liberty\", \"Central Park\", \"Empire State Building\"],\n",
        "        \"London\": [\"Big Ben\", \"Tower of London\", \"British Museum\"],\n",
        "        \"Paris\": [\"Eiffel Tower\", \"Louvre Museum\", \"Notre-Dame Cathedral\"],\n",
        "        \"Tokyo\": [\"Tokyo Tower\", \"Senso-ji Temple\", \"Shinjuku Gyoen National Garden\"],\n",
        "    }\n",
        "    return attractions.get(location, [])\n",
        "\n",
        "def find_nearby_restaurants(location):\n",
        "    restaurants = {\n",
        "        \"New York\": [\"Joe's Pizza\", \"Shake Shack\", \"Katz's Delicatessen\"],\n",
        "        \"London\": [\"Dishoom\", \"Sketch\", \"The Wolseley\"],\n",
        "        \"Paris\": [\"Le Comptoir du Relais\", \"La Tour d'Argent\", \"L'Ambroisie\"],\n",
        "        \"Tokyo\": [\"Sushi Dai\", \"Ichiran Ramen\", \"Ginza Kojyu\"],\n",
        "    }\n",
        "    return restaurants.get(location, [])\n",
        "\n",
        "def get_weather_info(location):\n",
        "    weather = {\n",
        "        \"New York\": {\"temperature\": \"30°C\", \"description\": \"Sunny\"},\n",
        "        \"London\": {\"temperature\": \"20°C\", \"description\": \"Partly Cloudy\"},\n",
        "        \"Paris\": {\"temperature\": \"25°C\", \"description\": \"Clear Sky\"},\n",
        "        \"Tokyo\": {\"temperature\": \"28°C\", \"description\": \"Cloudy\"},\n",
        "    }\n",
        "    return weather.get(location, {})\n",
        "\n",
        "if __name__ == \"__main__\":\n",
        "    while True:\n",
        "        location = input(\"Enter the desired location (or 'q' to quit): \")\n",
        "        if location.lower() == 'q':\n",
        "            print(\"Exiting the program.\")\n",
        "            break\n",
        "        location_info = get_location_info(location)\n",
        "        if location_info:\n",
        "            latitude, longitude = location_info\n",
        "            print(\"Latitude:\", latitude)\n",
        "            print(\"Longitude:\", longitude)\n",
        "\n",
        "            nearby_attractions = find_nearby_attractions(location)\n",
        "            print(\"Nearby attractions:\", \", \".join(nearby_attractions) if nearby_attractions else \"No attractions found.\")\n",
        "\n",
        "            nearby_restaurants = find_nearby_restaurants(location)\n",
        "            print(\"Nearby restaurants:\", \", \".join(nearby_restaurants) if nearby_restaurants else \"No restaurants found.\")\n",
        "\n",
        "            weather_info = get_weather_info(location)\n",
        "            print(\"Weather Information:\")\n",
        "            print(\"Temperature:\", weather_info.get('temperature', \"N/A\"))\n",
        "            print(\"Description:\", weather_info.get('description', \"N/A\"))\n",
        "        else:\n",
        "            print(\"Location not found.\")\n"
      ]
    },
    {
      "cell_type": "code",
      "execution_count": null,
      "id": "89222df4-288d-4466-b7a4-2d971be801d5",
      "metadata": {
        "id": "89222df4-288d-4466-b7a4-2d971be801d5",
        "outputId": "24e7ae87-1f99-4443-a2b8-daa802e923fb"
      },
      "outputs": [
        {
          "name": "stdout",
          "output_type": "stream",
          "text": [
            "🌍 Intelligent Tourist System\n"
          ]
        },
        {
          "name": "stdin",
          "output_type": "stream",
          "text": [
            "\n",
            "Enter a location (or 'q' to quit):  Paris\n"
          ]
        },
        {
          "name": "stdout",
          "output_type": "stream",
          "text": [
            "📍 Latitude: 48.8566, Longitude: 2.3522\n",
            "🏞️ Attractions: Eiffel Tower, Louvre Museum, Notre-Dame Cathedral\n",
            "🍽️ Restaurants: Le Comptoir du Relais, La Tour d'Argent, L'Ambroisie\n",
            "🌤️ Weather: 25°C, Clear Sky\n"
          ]
        },
        {
          "name": "stdin",
          "output_type": "stream",
          "text": [
            "\n",
            "Enter a location (or 'q' to quit):  q\n"
          ]
        },
        {
          "name": "stdout",
          "output_type": "stream",
          "text": [
            "Thank you! Exiting...\n"
          ]
        }
      ],
      "source": [
        "# Exp No: 5 INTELLIGENT TOURIST SYSTEM\n",
        "# AIM: To display location info including coordinates, attractions, restaurants, and weather.\n",
        "\n",
        "data = {\n",
        "    \"New York\": {\n",
        "        \"lat\": 40.7128, \"lon\": -74.0060,\n",
        "        \"attractions\": [\"Statue of Liberty\", \"Central Park\", \"Empire State Building\"],\n",
        "        \"restaurants\": [\"Joe's Pizza\", \"Shake Shack\", \"Katz's Delicatessen\"],\n",
        "        \"weather\": {\"temperature\": \"30°C\", \"description\": \"Sunny\"}\n",
        "    },\n",
        "    \"London\": {\n",
        "        \"lat\": 51.5074, \"lon\": -0.1278,\n",
        "        \"attractions\": [\"Big Ben\", \"Tower of London\", \"British Museum\"],\n",
        "        \"restaurants\": [\"Dishoom\", \"Sketch\", \"The Wolseley\"],\n",
        "        \"weather\": {\"temperature\": \"20°C\", \"description\": \"Partly Cloudy\"}\n",
        "    },\n",
        "    \"Paris\": {\n",
        "        \"lat\": 48.8566, \"lon\": 2.3522,\n",
        "        \"attractions\": [\"Eiffel Tower\", \"Louvre Museum\", \"Notre-Dame Cathedral\"],\n",
        "        \"restaurants\": [\"Le Comptoir du Relais\", \"La Tour d'Argent\", \"L'Ambroisie\"],\n",
        "        \"weather\": {\"temperature\": \"25°C\", \"description\": \"Clear Sky\"}\n",
        "    },\n",
        "    \"Tokyo\": {\n",
        "        \"lat\": 35.6895, \"lon\": 139.6917,\n",
        "        \"attractions\": [\"Tokyo Tower\", \"Senso-ji Temple\", \"Shinjuku Gyoen\"],\n",
        "        \"restaurants\": [\"Sushi Dai\", \"Ichiran Ramen\", \"Ginza Kojyu\"],\n",
        "        \"weather\": {\"temperature\": \"28°C\", \"description\": \"Cloudy\"}\n",
        "    }\n",
        "}\n",
        "\n",
        "# Main program\n",
        "print(\"🌍 Intelligent Tourist System\")\n",
        "while True:\n",
        "    location = input(\"\\nEnter a location (or 'q' to quit): \").title()\n",
        "    if location.lower() == 'q':\n",
        "        print(\"Thank you! Exiting...\")\n",
        "        break\n",
        "    info = data.get(location)\n",
        "    if info:\n",
        "        print(f\"📍 Latitude: {info['lat']}, Longitude: {info['lon']}\")\n",
        "        print(\"🏞️ Attractions:\", ', '.join(info['attractions']))\n",
        "        print(\"🍽️ Restaurants:\", ', '.join(info['restaurants']))\n",
        "        print(\"🌤️ Weather:\", f\"{info['weather']['temperature']}, {info['weather']['description']}\")\n",
        "    else:\n",
        "        print(\"❌ Location not found. Try again.\")\n"
      ]
    },
    {
      "cell_type": "code",
      "execution_count": null,
      "id": "64953154-3ca5-4618-a57d-9926e65f51f1",
      "metadata": {
        "id": "64953154-3ca5-4618-a57d-9926e65f51f1",
        "outputId": "7e848540-e419-4598-82e2-bfadf8eb0b37"
      },
      "outputs": [
        {
          "name": "stdin",
          "output_type": "stream",
          "text": [
            "Enter the assignment text to check for plagiarism (or 'q' to quit):  Hi i'm Sharli\n",
            "Enter the text to compare with the assignment:  Hi im sharli\n"
          ]
        },
        {
          "name": "stdout",
          "output_type": "stream",
          "text": [
            "Similarity ratio: 0.88\n",
            "\n"
          ]
        },
        {
          "name": "stdin",
          "output_type": "stream",
          "text": [
            "Enter the assignment text to check for plagiarism (or 'q' to quit):  q\n"
          ]
        }
      ],
      "source": [
        "from difflib import SequenceMatcher\n",
        "\n",
        "def calculate_similarity(text1, text2):\n",
        "    similarity_ratio = SequenceMatcher(None, text1, text2).ratio()\n",
        "    return similarity_ratio\n",
        "\n",
        "while True:\n",
        "    user_input = input(\"Enter the assignment text to check for plagiarism (or 'q' to quit): \")\n",
        "    if user_input.lower() == 'q':\n",
        "        break\n",
        "    try:\n",
        "        # Prompt for comparison text\n",
        "        comparison_text = input(\"Enter the text to compare with the assignment: \")\n",
        "        # Calculate similarity\n",
        "        similarity_ratio = calculate_similarity(user_input, comparison_text)\n",
        "        print(f\"Similarity ratio: {similarity_ratio}\\n\")\n",
        "    except Exception as e:\n",
        "        print(f\"Error: {str(e)}\")\n"
      ]
    },
    {
      "cell_type": "code",
      "execution_count": null,
      "id": "e1f3af89-786c-4f25-9989-39bcfc03c21e",
      "metadata": {
        "id": "e1f3af89-786c-4f25-9989-39bcfc03c21e",
        "outputId": "86c26c59-9fe8-4bee-c24d-cffd09412edd"
      },
      "outputs": [
        {
          "name": "stdout",
          "output_type": "stream",
          "text": [
            "Welcome to the Aptitude Test Chatbot!\n",
            "Answer the following questions:\n",
            "What is the capital of France?\n",
            "1. Paris\n",
            "2. London\n",
            "3. Berlin\n",
            "4. Rome\n"
          ]
        },
        {
          "name": "stdin",
          "output_type": "stream",
          "text": [
            "Enter the Answer without option number:  paris\n"
          ]
        },
        {
          "name": "stdout",
          "output_type": "stream",
          "text": [
            "What is the square root of 64?\n",
            "1. 4\n",
            "2. 6\n",
            "3. 8\n",
            "4. 10\n"
          ]
        },
        {
          "name": "stdin",
          "output_type": "stream",
          "text": [
            "Enter the Answer without option number:  8\n"
          ]
        },
        {
          "name": "stdout",
          "output_type": "stream",
          "text": [
            "Which is the largest planet in our solar system?\n",
            "1. Jupiter\n",
            "2. Saturn\n",
            "3. Mars\n",
            "4. Earth\n"
          ]
        },
        {
          "name": "stdin",
          "output_type": "stream",
          "text": [
            "Enter the Answer without option number:  jupiter\n"
          ]
        },
        {
          "name": "stdout",
          "output_type": "stream",
          "text": [
            "----- Results----- \n",
            "You scored 1 out of 3\n",
            "Percentage: 33.33333333333333%\n"
          ]
        }
      ],
      "source": [
        "questions = [\n",
        "    {\n",
        "        'question': 'What is the capital of France?',\n",
        "        'options': ['Paris', 'London', 'Berlin', 'Rome'],\n",
        "        'answer': 'Paris'\n",
        "    },\n",
        "    {\n",
        "        'question': 'Which is the largest planet in our solar system?',\n",
        "        'options': ['Jupiter', 'Saturn', 'Mars', 'Earth'],\n",
        "        'answer': 'Jupiter'\n",
        "    },\n",
        "    {\n",
        "        'question': 'What is the square root of 64?',\n",
        "        'options': ['4', '6', '8', '10'],\n",
        "        'answer': '8'\n",
        "    },\n",
        "]\n",
        "\n",
        "# Define Questions and Evaluation Functions\n",
        "def ask_question(question):\n",
        "    print(question['question'])\n",
        "    for i, option in enumerate(question['options']):\n",
        "        print(f'{i+1}. {option}')\n",
        "    user_answer = input('Enter the Answer without option number: ')\n",
        "    return user_answer\n",
        "\n",
        "def evaluate_answers(answers):\n",
        "    score = 0\n",
        "    for i, answer in enumerate(answers):\n",
        "        if answer == questions[i]['answer']:\n",
        "            score += 1\n",
        "    return score\n",
        "\n",
        "import random\n",
        "def run_aptitude_test():\n",
        "    print(\"Welcome to the Aptitude Test Chatbot!\")\n",
        "    print(\"Answer the following questions:\")\n",
        "    random.shuffle(questions)  # Randomize the order of questions\n",
        "    user_answers = []\n",
        "    for question in questions:\n",
        "        user_answer = ask_question(question)\n",
        "        user_answers.append(user_answer)\n",
        "    score = evaluate_answers(user_answers)\n",
        "    total_questions = len(questions)\n",
        "    percentage = (score / total_questions) * 100\n",
        "    print(\"----- Results----- \")\n",
        "    print(f\"You scored {score} out of {total_questions}\")\n",
        "    print(f\"Percentage: {percentage}%\")\n",
        "\n",
        "run_aptitude_test()\n"
      ]
    },
    {
      "cell_type": "code",
      "execution_count": null,
      "id": "e5014a7d-3a59-4025-9d01-32a725ebe214",
      "metadata": {
        "id": "e5014a7d-3a59-4025-9d01-32a725ebe214",
        "outputId": "5e0d1a49-a057-4a03-e351-a86838a2c2e8"
      },
      "outputs": [
        {
          "name": "stdout",
          "output_type": "stream",
          "text": [
            "Welcome to the Aptitude Test Chatbot!\n",
            "Answer the following questions:\n",
            "What is the square root of 64?\n",
            "1. 4\n",
            "2. 6\n",
            "3. 8\n",
            "4. 10\n"
          ]
        },
        {
          "name": "stdin",
          "output_type": "stream",
          "text": [
            "Enter the Answer without option number:  8\n"
          ]
        },
        {
          "name": "stdout",
          "output_type": "stream",
          "text": [
            "Which is the largest planet in our solar system?\n",
            "1. Jupiter\n",
            "2. Saturn\n",
            "3. Mars\n",
            "4. Earth\n"
          ]
        },
        {
          "name": "stdin",
          "output_type": "stream",
          "text": [
            "Enter the Answer without option number:  jupiter\n"
          ]
        },
        {
          "name": "stdout",
          "output_type": "stream",
          "text": [
            "What is the capital of France?\n",
            "1. Paris\n",
            "2. London\n",
            "3. Berlin\n",
            "4. Rome\n"
          ]
        },
        {
          "name": "stdin",
          "output_type": "stream",
          "text": [
            "Enter the Answer without option number:  paris\n"
          ]
        },
        {
          "name": "stdout",
          "output_type": "stream",
          "text": [
            "----- Results -----\n",
            "You scored 3 out of 3\n",
            "Percentage: 100.0%\n"
          ]
        }
      ],
      "source": [
        "import random\n",
        "\n",
        "questions = [\n",
        "    {'question': 'What is the capital of France?', 'options': ['Paris', 'London', 'Berlin', 'Rome'], 'answer': 'Paris'},\n",
        "    {'question': 'Which is the largest planet in our solar system?', 'options': ['Jupiter', 'Saturn', 'Mars', 'Earth'], 'answer': 'Jupiter'},\n",
        "    {'question': 'What is the square root of 64?', 'options': ['4', '6', '8', '10'], 'answer': '8'},\n",
        "]\n",
        "\n",
        "def ask_question(q):\n",
        "    print(q['question'])\n",
        "    for i, opt in enumerate(q['options']):\n",
        "        print(f\"{i+1}. {opt}\")\n",
        "    return input(\"Enter the Answer without option number: \")\n",
        "\n",
        "def evaluate_answers(ans):\n",
        "    return sum(1 for i, a in enumerate(ans) if a.strip().lower() == questions[i]['answer'].lower())\n",
        "\n",
        "def run_test():\n",
        "    print(\"Welcome to the Aptitude Test Chatbot!\\nAnswer the following questions:\")\n",
        "    random.shuffle(questions)\n",
        "    answers = [ask_question(q) for q in questions]\n",
        "    score = evaluate_answers(answers)\n",
        "    print(\"----- Results -----\")\n",
        "    print(f\"You scored {score} out of {len(questions)}\")\n",
        "    print(f\"Percentage: {(score / len(questions)) * 100}%\")\n",
        "\n",
        "run_test()\n"
      ]
    },
    {
      "cell_type": "code",
      "execution_count": null,
      "id": "4cddcec8-cbc2-4870-a443-cf0e28a7c70c",
      "metadata": {
        "id": "4cddcec8-cbc2-4870-a443-cf0e28a7c70c",
        "outputId": "8228c729-4e09-45be-b460-fdd24b3980e3"
      },
      "outputs": [
        {
          "name": "stdout",
          "output_type": "stream",
          "text": [
            "Welcome to the Teacher's Automatic Timetable Software!\n",
            "Generating Timetable...\n",
            "\n",
            "\n",
            "Monday:\n",
            "9 AM - Bob - History\n",
            "10 AM - Alice - Science\n",
            "11 AM - Bob - English\n",
            "2 PM - David - Science\n",
            "3 PM - David - Science\n",
            "\n",
            "Tuesday:\n",
            "9 AM - David - Science\n",
            "10 AM - Bob - English\n",
            "11 AM - Carol - Math\n",
            "2 PM - Bob - History\n",
            "3 PM - Bob - English\n",
            "\n",
            "Wednesday:\n",
            "9 AM - Carol - Geography\n",
            "10 AM - Carol - Math\n",
            "11 AM - Carol - Geography\n",
            "2 PM - Carol - Math\n",
            "3 PM - Carol - Geography\n",
            "\n",
            "Thursday:\n",
            "9 AM - Bob - English\n",
            "10 AM - Alice - Math\n",
            "11 AM - David - Science\n",
            "2 PM - David - Physics\n",
            "3 PM - Alice - Science\n",
            "\n",
            "Friday:\n",
            "9 AM - Carol - Geography\n",
            "10 AM - Carol - Math\n",
            "11 AM - Alice - Math\n",
            "2 PM - Bob - English\n",
            "3 PM - Bob - History\n"
          ]
        }
      ],
      "source": [
        "# Exp No:9 AUTOMATIC TIMETABLE GENERATOR\n",
        "# AIM: To create an automatic timetable generator for teachers based on their available subjects and preferred class timings.\n",
        "# Date:\n",
        "\n",
        "teachers = {\n",
        "    \"Alice\": [\"Math\", \"Science\"],\n",
        "    \"Bob\": [\"English\", \"History\"],\n",
        "    \"Carol\": [\"Math\", \"Geography\"],\n",
        "    \"David\": [\"Science\", \"Physics\"],\n",
        "}\n",
        "\n",
        "days = [\"Monday\", \"Tuesday\", \"Wednesday\", \"Thursday\", \"Friday\"]\n",
        "timings = [\"9 AM\", \"10 AM\", \"11 AM\", \"2 PM\", \"3 PM\"]\n",
        "\n",
        "import random\n",
        "\n",
        "def generate_timetable():\n",
        "    timetable = {}\n",
        "    for day in days:\n",
        "        timetable[day] = {}\n",
        "        for timing in timings:\n",
        "            teacher = random.choice(list(teachers.keys()))\n",
        "            subject = random.choice(teachers[teacher])\n",
        "            timetable[day][timing] = {\"teacher\": teacher, \"subject\": subject}\n",
        "    return timetable\n",
        "\n",
        "def print_timetable(timetable):\n",
        "    for day in days:\n",
        "        print(f\"\\n{day}:\")\n",
        "        for timing in timings:\n",
        "            class_info = timetable[day][timing]\n",
        "            print(f\"{timing} - {class_info['teacher']} - {class_info['subject']}\")\n",
        "\n",
        "def main():\n",
        "    print(\"Welcome to the Teacher's Automatic Timetable Software!\")\n",
        "    print(\"Generating Timetable...\\n\")\n",
        "    timetable = generate_timetable()\n",
        "    print_timetable(timetable)\n",
        "\n",
        "if __name__ == \"__main__\":\n",
        "    main()\n"
      ]
    },
    {
      "cell_type": "code",
      "execution_count": null,
      "id": "28446f52-e195-4b80-b831-0575503f0f1b",
      "metadata": {
        "id": "28446f52-e195-4b80-b831-0575503f0f1b",
        "outputId": "cff369fa-9ac6-4809-8cdb-87c18ba7088f"
      },
      "outputs": [
        {
          "name": "stdout",
          "output_type": "stream",
          "text": [
            "Welcome to the Teacher's Automatic Timetable Software!\n",
            "Generating Timetable...\n",
            "\n",
            "\n",
            "Monday:\n",
            "9 AM - Alice - Math\n",
            "10 AM - Carol - Geography\n",
            "11 AM - Carol - Geography\n",
            "2 PM - Alice - Science\n",
            "3 PM - Alice - Math\n",
            "\n",
            "Tuesday:\n",
            "9 AM - Carol - Geography\n",
            "10 AM - Alice - Science\n",
            "11 AM - David - Science\n",
            "2 PM - Carol - Math\n",
            "3 PM - Bob - English\n",
            "\n",
            "Wednesday:\n",
            "9 AM - David - Science\n",
            "10 AM - Alice - Math\n",
            "11 AM - Bob - History\n",
            "2 PM - Bob - History\n",
            "3 PM - Bob - English\n",
            "\n",
            "Thursday:\n",
            "9 AM - Carol - Math\n",
            "10 AM - Alice - Math\n",
            "11 AM - David - Physics\n",
            "2 PM - David - Physics\n",
            "3 PM - Bob - English\n",
            "\n",
            "Friday:\n",
            "9 AM - Bob - English\n",
            "10 AM - Carol - Math\n",
            "11 AM - Bob - History\n",
            "2 PM - Alice - Science\n",
            "3 PM - Carol - Math\n"
          ]
        }
      ],
      "source": [
        "import random\n",
        "\n",
        "teachers = {\n",
        "    \"Alice\": [\"Math\", \"Science\"],\n",
        "    \"Bob\": [\"English\", \"History\"],\n",
        "    \"Carol\": [\"Math\", \"Geography\"],\n",
        "    \"David\": [\"Science\", \"Physics\"],\n",
        "}\n",
        "\n",
        "days = [\"Monday\", \"Tuesday\", \"Wednesday\", \"Thursday\", \"Friday\"]\n",
        "timings = [\"9 AM\", \"10 AM\", \"11 AM\", \"2 PM\", \"3 PM\"]\n",
        "\n",
        "def generate_timetable():\n",
        "    timetable = {}\n",
        "    for day in days:\n",
        "        timetable[day] = {}\n",
        "        for time in timings:\n",
        "            teacher = random.choice(list(teachers))\n",
        "            subject = random.choice(teachers[teacher])\n",
        "            timetable[day][time] = {\"teacher\": teacher, \"subject\": subject}\n",
        "    return timetable\n",
        "\n",
        "def print_timetable(timetable):\n",
        "    for day in days:\n",
        "        print(f\"\\n{day}:\")\n",
        "        for time in timings:\n",
        "            info = timetable[day][time]\n",
        "            print(f\"{time} - {info['teacher']} - {info['subject']}\")\n",
        "\n",
        "def main():\n",
        "    print(\"Welcome to the Teacher's Automatic Timetable Software!\\nGenerating Timetable...\\n\")\n",
        "    print_timetable(generate_timetable())\n",
        "\n",
        "if __name__ == \"__main__\":\n",
        "    main()\n"
      ]
    },
    {
      "cell_type": "code",
      "execution_count": null,
      "id": "c93a0801-ed00-49d9-bd43-c6ff2cc9ea2a",
      "metadata": {
        "id": "c93a0801-ed00-49d9-bd43-c6ff2cc9ea2a"
      },
      "outputs": [],
      "source": [
        "import datetime\n",
        "\n",
        "student_records = {}\n",
        "\n",
        "def mark_attendance(student_id):\n",
        "    if student_id not in student_records:\n",
        "        student_records[student_id] = datetime.datetime.now()\n",
        "        return f\"Attendance marked for student with ID {student_id} at {student_records[student_id].strftime('%Y-%m-%d %H:%M:%S')}\"\n",
        "    else:\n",
        "        return f\"Attendance already marked for student with ID {student_id} at {student_records[student_id].strftime('%Y-%m-%d %H:%M:%S')}\"\n",
        "\n",
        "def view_attendance():\n",
        "    if len(student_records) == 0:\n",
        "        return \"No attendance records found.\"\n",
        "    else:\n",
        "        attendance_list = \"\\n\".join([f\"ID: {sid}, Time: {time.strftime('%Y-%m-%d %H:%M:%S')}\" for sid, time in student_records.items()])\n",
        "        return \"Attendance:\\n\" + attendance_list\n",
        "\n",
        "def main():\n",
        "    print(\"Welcome to the Automatic Attendance System!\")\n",
        "    print(\"Type 'view' to view records or 'exit' to quit.\\n\")\n",
        "    while True:\n",
        "        user_input = input(\"Enter student ID to mark attendance (or 'view' / 'exit'): \")\n",
        "        if user_input.lower() == \"view\":\n",
        "            print(view_attendance())\n",
        "        elif user_input.lower() == \"exit\":\n",
        "            print(\"Exiting Attendance System. Goodbye!\")\n",
        "            break\n",
        "        else:\n",
        "            try:\n",
        "                student_id = int(user_input)\n",
        "                print(mark_attendance(student_id))\n",
        "            except ValueError:\n",
        "                print(\"Invalid input. Please enter a valid student ID.\")\n",
        "\n",
        "\n",
        "if __name__ == \"__main__\":\n",
        "    main()\n"
      ]
    },
    {
      "cell_type": "code",
      "execution_count": null,
      "id": "a4cf94b8-5983-4da5-a67d-f38bea765884",
      "metadata": {
        "colab": {
          "base_uri": "https://localhost:8080/"
        },
        "id": "a4cf94b8-5983-4da5-a67d-f38bea765884",
        "outputId": "a29dcd14-98b9-4506-f229-687aebbc2792"
      },
      "outputs": [
        {
          "metadata": {
            "tags": null
          },
          "name": "stdout",
          "output_type": "stream",
          "text": [
            "Automatic Attendance System\n",
            "Invalid ID. Enter a number.\n",
            "Invalid ID. Enter a number.\n",
            "Marked for ID 1 at 2025-04-20 17:21:52\n",
            "Already marked for ID 1 at 2025-04-20 17:21:52\n",
            "Invalid ID. Enter a number.\n",
            "Attendance:\n",
            "ID: 1, Time: 2025-04-20 17:21:52\n",
            "Marked for ID 7 at 2025-04-20 17:56:26\n",
            "Attendance:\n",
            "ID: 1, Time: 2025-04-20 17:21:52\n",
            "ID: 7, Time: 2025-04-20 17:56:26\n"
          ]
        }
      ],
      "source": [
        "import datetime\n",
        "\n",
        "records = {}\n",
        "\n",
        "def mark_attendance(sid):\n",
        "    now = datetime.datetime.now()\n",
        "    if sid in records:\n",
        "        return f\"Already marked for ID {sid} at {records[sid].strftime('%Y-%m-%d %H:%M:%S')}\"\n",
        "    records[sid] = now\n",
        "    return f\"Marked for ID {sid} at {now.strftime('%Y-%m-%d %H:%M:%S')}\"\n",
        "\n",
        "def view_attendance():\n",
        "    if not records:\n",
        "        return \"No attendance records.\"\n",
        "    return \"Attendance:\\n\" + \"\\n\".join([f\"ID: {i}, Time: {t.strftime('%Y-%m-%d %H:%M:%S')}\" for i, t in records.items()])\n",
        "\n",
        "def main():\n",
        "    print(\"Automatic Attendance System\")\n",
        "    while True:\n",
        "        inp = input(\"Enter student ID or 'view': \").strip()\n",
        "        if inp.lower() == \"view\":\n",
        "            print(view_attendance())\n",
        "        else:\n",
        "            try:\n",
        "                print(mark_attendance(int(inp)))\n",
        "            except ValueError:\n",
        "                print(\"Invalid ID. Enter a number.\")\n",
        "\n",
        "if __name__ == \"__main__\":\n",
        "    main()\n"
      ]
    },
    {
      "cell_type": "code",
      "execution_count": 2,
      "id": "dde4054c-1c4e-405e-bedd-675391a9e3b8",
      "metadata": {
        "colab": {
          "base_uri": "https://localhost:8080/"
        },
        "id": "dde4054c-1c4e-405e-bedd-675391a9e3b8",
        "outputId": "f9a0532a-a00d-41a4-9b67-66813612600f"
      },
      "outputs": [
        {
          "output_type": "stream",
          "name": "stdout",
          "text": [
            "📚 Welcome to Attendance System\n",
            "👉 Type student ID to mark, 'view' to see attendance, 'exit' to quit\n",
            "\n",
            "Enter ID / 'view' / 'exit': 1\n",
            "✅ Marked attendance at 2025-04-21 01:44:18\n",
            "Enter ID / 'view' / 'exit': 2\n",
            "✅ Marked attendance at 2025-04-21 01:44:20\n",
            "Enter ID / 'view' / 'exit': view\n",
            "\n",
            "📋 Attendance List:\n",
            "ID: 1, Time: 2025-04-21 01:44:18\n",
            "ID: 2, Time: 2025-04-21 01:44:20\n",
            "Enter ID / 'view' / 'exit': exit\n",
            "👋 Exiting the system.\n"
          ]
        }
      ],
      "source": [
        "attendance = {}\n",
        "\n",
        "def mark_attendance(student_id):\n",
        "    from datetime import datetime\n",
        "    time_now = datetime.now().strftime(\"%Y-%m-%d %H:%M:%S\")\n",
        "\n",
        "    if student_id in attendance:\n",
        "        print(f\"✅ Already marked at {attendance[student_id]}\")\n",
        "    else:\n",
        "        attendance[student_id] = time_now\n",
        "        print(f\"✅ Marked attendance at {time_now}\")\n",
        "\n",
        "def show_attendance():\n",
        "    if not attendance:\n",
        "        print(\"❌ No attendance marked yet.\")\n",
        "    else:\n",
        "        print(\"\\n📋 Attendance List:\")\n",
        "        for sid, time in attendance.items():\n",
        "            print(f\"ID: {sid}, Time: {time}\")\n",
        "\n",
        "def main():\n",
        "    print(\"📚 Welcome to Attendance System\")\n",
        "    print(\"👉 Type student ID to mark, 'view' to see attendance, 'exit' to quit\\n\")\n",
        "\n",
        "    while True:\n",
        "        user_input = input(\"Enter ID / 'view' / 'exit': \").strip()\n",
        "\n",
        "        if user_input.lower() == \"view\":\n",
        "            show_attendance()\n",
        "        elif user_input.lower() == \"exit\":\n",
        "            print(\"👋 Exiting the system.\")\n",
        "            break\n",
        "        elif user_input.isdigit():\n",
        "            mark_attendance(user_input)\n",
        "        else:\n",
        "            print(\"⚠️ Invalid input. Please enter a number or command.\")\n",
        "\n",
        "main()\n"
      ]
    },
    {
      "cell_type": "code",
      "source": [],
      "metadata": {
        "id": "ouetjKEBBmTZ"
      },
      "id": "ouetjKEBBmTZ",
      "execution_count": null,
      "outputs": []
    }
  ],
  "metadata": {
    "kernelspec": {
      "display_name": "Python [conda env:base] *",
      "language": "python",
      "name": "conda-base-py"
    },
    "language_info": {
      "codemirror_mode": {
        "name": "ipython",
        "version": 3
      },
      "file_extension": ".py",
      "mimetype": "text/x-python",
      "name": "python",
      "nbconvert_exporter": "python",
      "pygments_lexer": "ipython3",
      "version": "3.12.7"
    },
    "colab": {
      "provenance": []
    }
  },
  "nbformat": 4,
  "nbformat_minor": 5
}